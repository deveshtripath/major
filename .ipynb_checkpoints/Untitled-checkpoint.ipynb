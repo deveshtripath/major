{
 "cells": [
  {
   "cell_type": "code",
   "execution_count": 1,
   "metadata": {},
   "outputs": [],
   "source": [
    "with open(\"linkdin.html\",'r',encoding='utf-8') as f:\n",
    "    page = f.read()"
   ]
  },
  {
   "cell_type": "code",
   "execution_count": 4,
   "metadata": {},
   "outputs": [],
   "source": [
    "soup=BeautifulSoup(page,'lxml')"
   ]
  },
  {
   "cell_type": "code",
   "execution_count": 3,
   "metadata": {},
   "outputs": [],
   "source": [
    "import pandas as pd\n",
    "import requests\n",
    "from bs4 import BeautifulSoup\n",
    "import numpy as np"
   ]
  },
  {
   "cell_type": "code",
   "execution_count": 6,
   "metadata": {},
   "outputs": [],
   "source": [
    "# soup.prettify()"
   ]
  },
  {
   "cell_type": "code",
   "execution_count": 7,
   "metadata": {},
   "outputs": [
    {
     "data": {
      "text/plain": [
       "'\\n    Feed Updates\\n  '"
      ]
     },
     "execution_count": 7,
     "metadata": {},
     "output_type": "execute_result"
    }
   ],
   "source": [
    "soup.find_all('h1')[0].text"
   ]
  },
  {
   "cell_type": "code",
   "execution_count": 12,
   "metadata": {},
   "outputs": [
    {
     "data": {
      "text/plain": [
       "\"Feed post number 1            Pradip Nichite likes this         Status is offline      Dhaval Patel             • 2nd                      Helping People Become Data Professionals 👉 codebasics.io | Youtuber - 700K+ Subscribers | Ex. Bloomberg, NVIDIA        2d •  2 days agoFollow  During an interview, I allow a candidate to use the internet 🌎To get help on code syntax, etc. I pay attention to what exactly they search for. It helps me understand how they navigate through an abundance of information to find the necessary ingredients for accomplishing a given task. After all, that's exactly what they will be doing after they are hired!In short: Search Skill > Memorization Skill#interview …see more8,833            172 comments                      143 reposts                     Like             CommentRepostSend in a private messageSend\""
      ]
     },
     "execution_count": 12,
     "metadata": {},
     "output_type": "execute_result"
    }
   ],
   "source": [
    "soup.find('div',class_='relative').get_text().replace('\\n','').strip()"
   ]
  },
  {
   "cell_type": "code",
   "execution_count": 20,
   "metadata": {},
   "outputs": [
    {
     "data": {
      "text/plain": [
       "'Dhaval Patel'"
      ]
     },
     "execution_count": 20,
     "metadata": {},
     "output_type": "execute_result"
    }
   ],
   "source": [
    "soup.find('span', class_='update-components-actor__name').get_text().replace('\\n','').strip()"
   ]
  },
  {
   "cell_type": "code",
   "execution_count": 21,
   "metadata": {},
   "outputs": [
    {
     "data": {
      "text/plain": [
       "'Helping People Become Data Professionals 👉 codebasics.io | Youtuber - 700K+ Subscribers | Ex. Bloomberg, NVIDIA'"
      ]
     },
     "execution_count": 21,
     "metadata": {},
     "output_type": "execute_result"
    }
   ],
   "source": [
    "soup.find('span', class_='update-components-actor__description').get_text().replace('\\n','').strip()"
   ]
  },
  {
   "cell_type": "code",
   "execution_count": 42,
   "metadata": {},
   "outputs": [
    {
     "data": {
      "text/plain": [
       "\"During an interview, I allow a candidate to use the internet 🌎To get help on code syntax, etc. I pay attention to what exactly they search for. It helps me understand how they navigate through an abundance of information to find the necessary ingredients for accomplishing a given task. After all, that's exactly what they will be doing after they are hired!In short: Search Skill > Memorization Skill#interview\""
      ]
     },
     "execution_count": 42,
     "metadata": {},
     "output_type": "execute_result"
    }
   ],
   "source": [
    "soup.find('div', class_='update-components-text').get_text().replace('\\n','').strip()"
   ]
  },
  {
   "cell_type": "code",
   "execution_count": 32,
   "metadata": {},
   "outputs": [],
   "source": [
    "# company = soup.find('ul',class_='social-details-social-counts')\n",
    "# for i in company:\n",
    "#     print(i.find('li',class_='social-details-social-counts__item social-details-social-counts__reactions')[0].text.strip())"
   ]
  },
  {
   "cell_type": "code",
   "execution_count": 25,
   "metadata": {},
   "outputs": [
    {
     "data": {
      "text/plain": [
       "'8,833            172 comments                      143 reposts'"
      ]
     },
     "execution_count": 25,
     "metadata": {},
     "output_type": "execute_result"
    }
   ],
   "source": [
    "soup.find('ul', class_='social-details-social-counts').get_text().replace('\\n','').strip()"
   ]
  },
  {
   "cell_type": "code",
   "execution_count": 27,
   "metadata": {},
   "outputs": [
    {
     "data": {
      "text/plain": [
       "'172 comments'"
      ]
     },
     "execution_count": 27,
     "metadata": {},
     "output_type": "execute_result"
    }
   ],
   "source": [
    "soup.find('li', class_='social-details-social-counts__item--with-social-proof').get_text().replace('\\n','').strip()"
   ]
  },
  {
   "cell_type": "code",
   "execution_count": 35,
   "metadata": {},
   "outputs": [
    {
     "data": {
      "text/plain": [
       "'8,833'"
      ]
     },
     "execution_count": 35,
     "metadata": {},
     "output_type": "execute_result"
    }
   ],
   "source": [
    "soup.find('li', class_='social-details-social-counts__item').get_text().replace('\\n','').strip()"
   ]
  },
  {
   "cell_type": "code",
   "execution_count": 38,
   "metadata": {},
   "outputs": [
    {
     "data": {
      "text/plain": [
       "'143 reposts'"
      ]
     },
     "execution_count": 38,
     "metadata": {},
     "output_type": "execute_result"
    }
   ],
   "source": [
    "soup.find('li', class_='social-details-social-counts__item social-details-social-counts__item--with-social-proof').get_text().replace('\\n','').strip()"
   ]
  },
  {
   "cell_type": "code",
   "execution_count": 41,
   "metadata": {},
   "outputs": [
    {
     "data": {
      "text/plain": [
       "1162"
      ]
     },
     "execution_count": 41,
     "metadata": {},
     "output_type": "execute_result"
    }
   ],
   "source": [
    "len(soup.find_all('div',class_='relative'))"
   ]
  },
  {
   "cell_type": "code",
   "execution_count": 44,
   "metadata": {},
   "outputs": [
    {
     "name": "stdout",
     "output_type": "stream",
     "text": [
      "2\n",
      "3\n",
      "4\n",
      "5\n",
      "6\n",
      "7\n",
      "8\n",
      "9\n",
      "10\n",
      "11\n"
     ]
    }
   ],
   "source": [
    "user = []\n",
    "about = []\n",
    "post = []\n",
    "comment = []\n",
    "like = []\n",
    "reports = []\n",
    "cnt = 1\n",
    "while cnt <= 10:\n",
    "    user.append(soup.find('span', class_='update-components-actor__name').get_text().replace('\\n','').strip())\n",
    "    about.append(soup.find('span', class_='update-components-actor__description').get_text().replace('\\n','').strip())\n",
    "    post.append(soup.find('div', class_='update-components-text').get_text().replace('\\n','').strip())\n",
    "    comment.append(soup.find('li', class_='social-details-social-counts__item--with-social-proof').get_text().replace('\\n','').strip())\n",
    "    like.append(soup.find('li', class_='social-details-social-counts__item').get_text().replace('\\n','').strip())\n",
    "    reports.append(soup.find('li', class_='social-details-social-counts__item social-details-social-counts__item--with-social-proof').get_text().replace('\\n','').strip())\n",
    "    cnt = cnt +1\n",
    "    print(cnt)"
   ]
  },
  {
   "cell_type": "code",
   "execution_count": null,
   "metadata": {},
   "outputs": [],
   "source": []
  }
 ],
 "metadata": {
  "kernelspec": {
   "display_name": "Python 3",
   "language": "python",
   "name": "python3"
  },
  "language_info": {
   "codemirror_mode": {
    "name": "ipython",
    "version": 3
   },
   "file_extension": ".py",
   "mimetype": "text/x-python",
   "name": "python",
   "nbconvert_exporter": "python",
   "pygments_lexer": "ipython3",
   "version": "3.8.5"
  }
 },
 "nbformat": 4,
 "nbformat_minor": 4
}
